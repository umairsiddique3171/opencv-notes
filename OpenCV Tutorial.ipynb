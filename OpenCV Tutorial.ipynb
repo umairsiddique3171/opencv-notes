{
 "cells": [
  {
   "cell_type": "code",
   "execution_count": 1,
   "id": "8894b55c",
   "metadata": {},
   "outputs": [],
   "source": [
    "import cv2"
   ]
  },
  {
   "cell_type": "code",
   "execution_count": 2,
   "id": "1a25e46b",
   "metadata": {},
   "outputs": [],
   "source": [
    "import os"
   ]
  },
  {
   "cell_type": "code",
   "execution_count": null,
   "id": "10056326",
   "metadata": {},
   "outputs": [],
   "source": []
  },
  {
   "cell_type": "code",
   "execution_count": null,
   "id": "c5834863",
   "metadata": {},
   "outputs": [],
   "source": []
  },
  {
   "cell_type": "markdown",
   "id": "6777dbe1",
   "metadata": {},
   "source": [
    "## Input/Output"
   ]
  },
  {
   "cell_type": "code",
   "execution_count": 3,
   "id": "2ad42afc",
   "metadata": {},
   "outputs": [],
   "source": [
    "# read image "
   ]
  },
  {
   "cell_type": "code",
   "execution_count": 4,
   "id": "d24f1b21",
   "metadata": {},
   "outputs": [],
   "source": [
    "image_path = os.path.join('imgs1.jpg')"
   ]
  },
  {
   "cell_type": "code",
   "execution_count": 5,
   "id": "cb528f7e",
   "metadata": {},
   "outputs": [],
   "source": [
    "img = cv2.imread(image_path)"
   ]
  },
  {
   "cell_type": "code",
   "execution_count": 6,
   "id": "baacee5c",
   "metadata": {},
   "outputs": [],
   "source": [
    "# visualize image"
   ]
  },
  {
   "cell_type": "code",
   "execution_count": 7,
   "id": "d44ecace",
   "metadata": {},
   "outputs": [],
   "source": [
    "# cv2.imshow('umair',img)\n",
    "# cv2.waitKey(0) \n",
    "# # waitkey is very important for visualizing\n",
    "# # otherwise open cv will show image for just microseconds and boom!!!\n",
    "# # waitkey(0) means image window will be open forever until closed by user\n",
    "# # waitkey(3000) means image window will be open for 3000 milli seconds"
   ]
  },
  {
   "cell_type": "code",
   "execution_count": 8,
   "id": "52c42d09",
   "metadata": {},
   "outputs": [],
   "source": [
    "# write image "
   ]
  },
  {
   "cell_type": "code",
   "execution_count": 9,
   "id": "7eedd6a5",
   "metadata": {},
   "outputs": [
    {
     "data": {
      "text/plain": [
       "True"
      ]
     },
     "execution_count": 9,
     "metadata": {},
     "output_type": "execute_result"
    }
   ],
   "source": [
    "cv2.imwrite(os.path.join('umair_write.jpg'),img)"
   ]
  },
  {
   "cell_type": "code",
   "execution_count": null,
   "id": "6f88584f",
   "metadata": {},
   "outputs": [],
   "source": []
  },
  {
   "cell_type": "code",
   "execution_count": null,
   "id": "f19be3a5",
   "metadata": {},
   "outputs": [],
   "source": []
  },
  {
   "cell_type": "code",
   "execution_count": 10,
   "id": "97e294b8",
   "metadata": {},
   "outputs": [],
   "source": [
    "# read video"
   ]
  },
  {
   "cell_type": "code",
   "execution_count": 11,
   "id": "28798bb4",
   "metadata": {},
   "outputs": [],
   "source": [
    "video_path = os.path.join('video1.mp4')"
   ]
  },
  {
   "cell_type": "code",
   "execution_count": 12,
   "id": "583708f5",
   "metadata": {},
   "outputs": [],
   "source": [
    "video = cv2.VideoCapture(video_path)"
   ]
  },
  {
   "cell_type": "code",
   "execution_count": 13,
   "id": "4c8cb0a2",
   "metadata": {},
   "outputs": [],
   "source": [
    "# visualize video"
   ]
  },
  {
   "cell_type": "code",
   "execution_count": 14,
   "id": "4ab2c675",
   "metadata": {},
   "outputs": [],
   "source": [
    "# ret = True\n",
    "# while ret:\n",
    "#     ret,frame = video.read()\n",
    "#     if  ret: \n",
    "#         cv2.imshow('andrew', frame)\n",
    "#         cv2.waitKey(5) # i.e. run one frame every 5 milli seconds\n",
    "\n",
    "# video.release()\n",
    "# cv2.destroyAllWindows()\n",
    "# # Above 2 lines are very important if you don't want to have an error.\n",
    "# # so use them every time you want to visualize the video"
   ]
  },
  {
   "cell_type": "code",
   "execution_count": 15,
   "id": "0e477005",
   "metadata": {},
   "outputs": [],
   "source": [
    "# write video"
   ]
  },
  {
   "cell_type": "code",
   "execution_count": 16,
   "id": "311690e3",
   "metadata": {},
   "outputs": [],
   "source": [
    "# cap = cv2.VideoCapture(os.path.join('video1.mp4'))\n",
    "# ret,frame = cap.read()\n",
    "# output_video = cv2.VideoWriter(os.path.join('.','write_video1.mp4'),\n",
    "#                               cv2.VideoWriter_fourcc(*'MP4V'),\n",
    "#                               25,\n",
    "#                               (frame.shape[1],frame.shape[0]))"
   ]
  },
  {
   "cell_type": "code",
   "execution_count": 17,
   "id": "3429ca9f",
   "metadata": {},
   "outputs": [],
   "source": [
    "# while ret:\n",
    "#     ret,frame = cap.read()\n",
    "#     output_video.write(frame)\n",
    "# cap.release()\n",
    "# output_video.release()"
   ]
  },
  {
   "cell_type": "code",
   "execution_count": null,
   "id": "3e567863",
   "metadata": {},
   "outputs": [],
   "source": []
  },
  {
   "cell_type": "code",
   "execution_count": null,
   "id": "125ef750",
   "metadata": {},
   "outputs": [],
   "source": []
  },
  {
   "cell_type": "code",
   "execution_count": 18,
   "id": "d6487ca1",
   "metadata": {},
   "outputs": [],
   "source": [
    "# read webcam"
   ]
  },
  {
   "cell_type": "code",
   "execution_count": 19,
   "id": "d78ea38b",
   "metadata": {},
   "outputs": [],
   "source": [
    "webcam = cv2.VideoCapture(0)"
   ]
  },
  {
   "cell_type": "code",
   "execution_count": 20,
   "id": "e86fadc3",
   "metadata": {},
   "outputs": [],
   "source": [
    "# visulaize webcam"
   ]
  },
  {
   "cell_type": "code",
   "execution_count": 21,
   "id": "cf046701",
   "metadata": {},
   "outputs": [],
   "source": [
    "# while True:\n",
    "#     ret,frame = webcam.read()\n",
    "#     cv2.imshow('webcam',frame)\n",
    "#     if cv2.waitKey(40) & 0xFF == ord('a'):\n",
    "#         break\n",
    "# webcam.release()\n",
    "# cv2.destroyAllWindows()"
   ]
  },
  {
   "cell_type": "code",
   "execution_count": null,
   "id": "314eed65",
   "metadata": {},
   "outputs": [],
   "source": []
  },
  {
   "cell_type": "code",
   "execution_count": null,
   "id": "0848d274",
   "metadata": {},
   "outputs": [],
   "source": []
  },
  {
   "cell_type": "markdown",
   "id": "8ac2dd66",
   "metadata": {},
   "source": [
    "## Basic Operations"
   ]
  },
  {
   "cell_type": "code",
   "execution_count": 22,
   "id": "27640496",
   "metadata": {},
   "outputs": [],
   "source": [
    "# resizing"
   ]
  },
  {
   "cell_type": "code",
   "execution_count": 23,
   "id": "8d23c784",
   "metadata": {},
   "outputs": [],
   "source": [
    "img = cv2.imread(os.path.join('.','imgs1.jpg'))"
   ]
  },
  {
   "cell_type": "code",
   "execution_count": 24,
   "id": "2216f577",
   "metadata": {},
   "outputs": [
    {
     "name": "stdout",
     "output_type": "stream",
     "text": [
      "(625, 520, 3)\n"
     ]
    }
   ],
   "source": [
    "print(img.shape)"
   ]
  },
  {
   "cell_type": "code",
   "execution_count": 25,
   "id": "58956925",
   "metadata": {},
   "outputs": [],
   "source": [
    "# cv2.imshow('img',img)\n",
    "# cv2.waitKey(0)"
   ]
  },
  {
   "cell_type": "code",
   "execution_count": 26,
   "id": "edf6dbbf",
   "metadata": {},
   "outputs": [],
   "source": [
    "resized_img = cv2.resize(img,(200,250))\n",
    "# width, height -> height, width when printing shape"
   ]
  },
  {
   "cell_type": "code",
   "execution_count": 27,
   "id": "a5f51dd0",
   "metadata": {},
   "outputs": [
    {
     "name": "stdout",
     "output_type": "stream",
     "text": [
      "(250, 200, 3)\n"
     ]
    }
   ],
   "source": [
    "print(resized_img.shape)"
   ]
  },
  {
   "cell_type": "code",
   "execution_count": 28,
   "id": "3cf5ed4c",
   "metadata": {},
   "outputs": [],
   "source": [
    "# cv2.imshow('img',resized_img)\n",
    "# cv2.waitKey(0)"
   ]
  },
  {
   "cell_type": "code",
   "execution_count": null,
   "id": "3cf54f3d",
   "metadata": {},
   "outputs": [],
   "source": []
  },
  {
   "cell_type": "code",
   "execution_count": null,
   "id": "063a7f70",
   "metadata": {},
   "outputs": [],
   "source": []
  },
  {
   "cell_type": "code",
   "execution_count": 29,
   "id": "0e1c446e",
   "metadata": {},
   "outputs": [],
   "source": [
    "# crop"
   ]
  },
  {
   "cell_type": "code",
   "execution_count": 30,
   "id": "47f5249f",
   "metadata": {},
   "outputs": [],
   "source": [
    "img = cv2.imread(os.path.join('.','imgs1.jpg'))"
   ]
  },
  {
   "cell_type": "code",
   "execution_count": 31,
   "id": "52fa42e3",
   "metadata": {},
   "outputs": [
    {
     "data": {
      "text/plain": [
       "(625, 520, 3)"
      ]
     },
     "execution_count": 31,
     "metadata": {},
     "output_type": "execute_result"
    }
   ],
   "source": [
    "img.shape"
   ]
  },
  {
   "cell_type": "code",
   "execution_count": 32,
   "id": "7656b5df",
   "metadata": {},
   "outputs": [
    {
     "data": {
      "text/plain": [
       "numpy.ndarray"
      ]
     },
     "execution_count": 32,
     "metadata": {},
     "output_type": "execute_result"
    }
   ],
   "source": [
    "type(img)"
   ]
  },
  {
   "cell_type": "code",
   "execution_count": 33,
   "id": "01a861f8",
   "metadata": {},
   "outputs": [],
   "source": [
    "cropped_img = img[100:500,100:440]"
   ]
  },
  {
   "cell_type": "code",
   "execution_count": 34,
   "id": "8953a65f",
   "metadata": {},
   "outputs": [
    {
     "data": {
      "text/plain": [
       "(400, 340, 3)"
      ]
     },
     "execution_count": 34,
     "metadata": {},
     "output_type": "execute_result"
    }
   ],
   "source": [
    "cropped_img.shape"
   ]
  },
  {
   "cell_type": "code",
   "execution_count": 35,
   "id": "8c27f1aa",
   "metadata": {},
   "outputs": [
    {
     "data": {
      "text/plain": [
       "numpy.ndarray"
      ]
     },
     "execution_count": 35,
     "metadata": {},
     "output_type": "execute_result"
    }
   ],
   "source": [
    "type(cropped_img)"
   ]
  },
  {
   "cell_type": "code",
   "execution_count": 36,
   "id": "517dc6c0",
   "metadata": {},
   "outputs": [],
   "source": [
    "# cv2.imshow('cropped_img',cropped_img)\n",
    "# cv2.waitKey(0)"
   ]
  },
  {
   "cell_type": "code",
   "execution_count": null,
   "id": "4d0dde32",
   "metadata": {},
   "outputs": [],
   "source": []
  },
  {
   "cell_type": "code",
   "execution_count": null,
   "id": "f5515564",
   "metadata": {},
   "outputs": [],
   "source": []
  },
  {
   "cell_type": "markdown",
   "id": "63242ebb",
   "metadata": {},
   "source": [
    "## Colorspaces"
   ]
  },
  {
   "cell_type": "code",
   "execution_count": 37,
   "id": "b2ea431f",
   "metadata": {},
   "outputs": [],
   "source": [
    "import cv2\n",
    "import os"
   ]
  },
  {
   "cell_type": "code",
   "execution_count": 38,
   "id": "5e4576c9",
   "metadata": {},
   "outputs": [],
   "source": [
    "# img = cv2.imread(os.path.join('.','imgs1.jpg'))\n",
    "# cv2.imshow('img',img)\n",
    "# cv2.waitKey(0)"
   ]
  },
  {
   "cell_type": "code",
   "execution_count": 39,
   "id": "34e53ff0",
   "metadata": {},
   "outputs": [],
   "source": [
    "# img_rgb = cv2.cvtColor(img,cv2.COLOR_BGR2RGB)\n",
    "# cv2.imshow('img',img_rgb)\n",
    "# cv2.waitKey(0)"
   ]
  },
  {
   "cell_type": "code",
   "execution_count": 40,
   "id": "bb9f2c2a",
   "metadata": {},
   "outputs": [],
   "source": [
    "# img_gray = cv2.cvtColor(img,cv2.COLOR_BGR2GRAY)\n",
    "# cv2.imshow('img',img_gray)\n",
    "# cv2.waitKey(0)"
   ]
  },
  {
   "cell_type": "code",
   "execution_count": 41,
   "id": "ed3292a9",
   "metadata": {},
   "outputs": [],
   "source": [
    "# img_hsv = cv2.cvtColor(img,cv2.COLOR_BGR2HSV)\n",
    "# cv2.imshow('img',img_hsv)\n",
    "# cv2.waitKey(0)\n",
    "# # hsv colorspace is mostly used for color detection"
   ]
  },
  {
   "cell_type": "code",
   "execution_count": null,
   "id": "691a1176",
   "metadata": {},
   "outputs": [],
   "source": []
  },
  {
   "cell_type": "code",
   "execution_count": null,
   "id": "f74b4a85",
   "metadata": {},
   "outputs": [],
   "source": []
  },
  {
   "cell_type": "markdown",
   "id": "db87e636",
   "metadata": {},
   "source": [
    "## Blurring"
   ]
  },
  {
   "cell_type": "code",
   "execution_count": 42,
   "id": "b346e2e2",
   "metadata": {},
   "outputs": [],
   "source": [
    "import cv2\n",
    "import os"
   ]
  },
  {
   "cell_type": "code",
   "execution_count": 43,
   "id": "c8532680",
   "metadata": {},
   "outputs": [],
   "source": [
    "# while blurring algorithm basically take average of the all the pixel around the targetted pixel and assign that value\n",
    "# to the targetted pixel"
   ]
  },
  {
   "cell_type": "code",
   "execution_count": 44,
   "id": "ea74b6c8",
   "metadata": {},
   "outputs": [],
   "source": [
    "# img = cv2.imread(os.path.join('.','imgs1.jpg'))\n",
    "# cv2.imshow('img',img)\n",
    "# cv2.waitKey(0)"
   ]
  },
  {
   "cell_type": "code",
   "execution_count": null,
   "id": "539a23e3",
   "metadata": {},
   "outputs": [],
   "source": []
  },
  {
   "cell_type": "code",
   "execution_count": null,
   "id": "50e1f4b9",
   "metadata": {},
   "outputs": [],
   "source": []
  },
  {
   "cell_type": "code",
   "execution_count": 45,
   "id": "ce48fd52",
   "metadata": {},
   "outputs": [],
   "source": [
    "# blur()"
   ]
  },
  {
   "cell_type": "code",
   "execution_count": 46,
   "id": "463fdd42",
   "metadata": {},
   "outputs": [],
   "source": [
    "# kernel_size = 10\n",
    "# blur_img = cv2.blur(img,(kernel_size,kernel_size))\n",
    "# cv2.imshow('blur_img',blur_img)\n",
    "# cv2.waitKey(0)"
   ]
  },
  {
   "cell_type": "code",
   "execution_count": 47,
   "id": "fe6b0f83",
   "metadata": {},
   "outputs": [],
   "source": [
    "# # just fun stuff\n",
    "# import random\n",
    "# x = 0\n",
    "# while x < 200:\n",
    "#     blur_img = cv2.blur(img,(random.randint(5,35),random.randint(5,35)))\n",
    "#     cv2.imshow('bluring',blur_img)\n",
    "#     cv2.waitKey(10)\n",
    "#     x = x+1\n",
    "# cv2.destroyAllWindows()"
   ]
  },
  {
   "cell_type": "code",
   "execution_count": null,
   "id": "0c306b6c",
   "metadata": {},
   "outputs": [],
   "source": []
  },
  {
   "cell_type": "code",
   "execution_count": null,
   "id": "58802b87",
   "metadata": {},
   "outputs": [],
   "source": []
  },
  {
   "cell_type": "code",
   "execution_count": 48,
   "id": "5fb88684",
   "metadata": {},
   "outputs": [],
   "source": [
    "# GaussianBlur()"
   ]
  },
  {
   "cell_type": "code",
   "execution_count": 49,
   "id": "a8503b89",
   "metadata": {},
   "outputs": [],
   "source": [
    "# kernel_size = 5\n",
    "# blur_img = cv2.GaussianBlur(img,(kernel_size,kernel_size),3)\n",
    "# cv2.imshow('blur_img',blur_img)\n",
    "# cv2.waitKey(0)"
   ]
  },
  {
   "cell_type": "code",
   "execution_count": null,
   "id": "e6af9b91",
   "metadata": {},
   "outputs": [],
   "source": []
  },
  {
   "cell_type": "code",
   "execution_count": null,
   "id": "754d0fc0",
   "metadata": {},
   "outputs": [],
   "source": []
  },
  {
   "cell_type": "code",
   "execution_count": 50,
   "id": "12e7ea55",
   "metadata": {},
   "outputs": [],
   "source": [
    "# medianBlur()"
   ]
  },
  {
   "cell_type": "code",
   "execution_count": 51,
   "id": "7624b8c9",
   "metadata": {},
   "outputs": [],
   "source": [
    "# kernel_size = 5\n",
    "# blur_img = cv2.medianBlur(img,kernel_size)\n",
    "# cv2.imshow('blur_img',blur_img)\n",
    "# cv2.waitKey(0)"
   ]
  },
  {
   "cell_type": "code",
   "execution_count": 52,
   "id": "3ac3968e",
   "metadata": {},
   "outputs": [],
   "source": [
    "# whenever you have noisy image, you can use one of these blur image filter to remove noise somewhat.\n",
    "# But it is good to apply all filters to check what work for best for what situation."
   ]
  },
  {
   "cell_type": "code",
   "execution_count": null,
   "id": "09e00687",
   "metadata": {},
   "outputs": [],
   "source": []
  },
  {
   "cell_type": "code",
   "execution_count": null,
   "id": "c7d5a5cf",
   "metadata": {},
   "outputs": [],
   "source": []
  },
  {
   "cell_type": "markdown",
   "id": "25ce7420",
   "metadata": {},
   "source": [
    "## Threshold"
   ]
  },
  {
   "cell_type": "code",
   "execution_count": 53,
   "id": "91e7e67c",
   "metadata": {},
   "outputs": [],
   "source": [
    "import os\n",
    "import cv2"
   ]
  },
  {
   "cell_type": "code",
   "execution_count": 54,
   "id": "132b3200",
   "metadata": {},
   "outputs": [
    {
     "data": {
      "text/plain": [
       "(625, 520, 3)"
      ]
     },
     "execution_count": 54,
     "metadata": {},
     "output_type": "execute_result"
    }
   ],
   "source": [
    "img = cv2.imread(os.path.join('.','imgs1.jpg'))\n",
    "img.shape"
   ]
  },
  {
   "cell_type": "code",
   "execution_count": null,
   "id": "1685d83d",
   "metadata": {},
   "outputs": [],
   "source": []
  },
  {
   "cell_type": "code",
   "execution_count": null,
   "id": "a5b20482",
   "metadata": {},
   "outputs": [],
   "source": []
  },
  {
   "cell_type": "code",
   "execution_count": 55,
   "id": "fc7602c0",
   "metadata": {},
   "outputs": [],
   "source": [
    "# Simple Thresholding"
   ]
  },
  {
   "cell_type": "code",
   "execution_count": 56,
   "id": "01af6f83",
   "metadata": {},
   "outputs": [],
   "source": [
    "# img_gray = cv2.cvtColor(img, cv2.COLOR_BGR2GRAY) # first we need to convert bgr to gray\n",
    "# threshold = 105\n",
    "# ret,thresh = cv2.threshold(img_gray, threshold, 255,cv2.THRESH_BINARY) # threshold -> all the pixel < 80 = 0 & pixel > 80 = 255\n",
    "# thresh = cv2.blur(thresh,(2,2)) # for noise removal\n",
    "# cv2.imshow('thresh',thresh)\n",
    "# cv2.waitKey(0)"
   ]
  },
  {
   "cell_type": "code",
   "execution_count": 57,
   "id": "8cb2976e",
   "metadata": {},
   "outputs": [],
   "source": [
    "# thresholding is being used in many computer vision application, one application to use the thresh is the semantic segmentation"
   ]
  },
  {
   "cell_type": "code",
   "execution_count": null,
   "id": "4a5bdbce",
   "metadata": {},
   "outputs": [],
   "source": []
  },
  {
   "cell_type": "code",
   "execution_count": null,
   "id": "a473aae2",
   "metadata": {},
   "outputs": [],
   "source": []
  },
  {
   "cell_type": "code",
   "execution_count": 58,
   "id": "dd83c2ef",
   "metadata": {},
   "outputs": [],
   "source": [
    "# Adaptive Threshold"
   ]
  },
  {
   "cell_type": "code",
   "execution_count": 59,
   "id": "6162d4fc",
   "metadata": {},
   "outputs": [],
   "source": [
    "# thresh = cv2.adaptiveThreshold(img_gray,255, cv2.ADAPTIVE_THRESH_GAUSSIAN_C, cv2.THRESH_BINARY, 5, 5) # opencv will apply threshold adaptively over each section\n",
    "# cv2.imshow('thresh',thresh)\n",
    "# cv2.waitKey(0)"
   ]
  },
  {
   "cell_type": "code",
   "execution_count": null,
   "id": "57c42ea5",
   "metadata": {},
   "outputs": [],
   "source": []
  },
  {
   "cell_type": "code",
   "execution_count": null,
   "id": "3f350480",
   "metadata": {},
   "outputs": [],
   "source": []
  },
  {
   "cell_type": "markdown",
   "id": "ce5463fc",
   "metadata": {},
   "source": [
    "## Edge Detection"
   ]
  },
  {
   "cell_type": "code",
   "execution_count": 60,
   "id": "c6a3ff00",
   "metadata": {},
   "outputs": [],
   "source": [
    "# Three operators for edge detection:\n",
    "# 1) Sober Derivatives\n",
    "# 2) Laplace Operator\n",
    "# 3) Canny Edge Detector"
   ]
  },
  {
   "cell_type": "code",
   "execution_count": 61,
   "id": "4384edfa",
   "metadata": {},
   "outputs": [],
   "source": [
    "import os \n",
    "import cv2\n",
    "import numpy as np"
   ]
  },
  {
   "cell_type": "code",
   "execution_count": 62,
   "id": "d1512eff",
   "metadata": {},
   "outputs": [
    {
     "data": {
      "text/plain": [
       "(625, 520, 3)"
      ]
     },
     "execution_count": 62,
     "metadata": {},
     "output_type": "execute_result"
    }
   ],
   "source": [
    "img = cv2.imread(os.path.join('.','imgs1.jpg'))\n",
    "img.shape"
   ]
  },
  {
   "cell_type": "code",
   "execution_count": 63,
   "id": "7f9a6761",
   "metadata": {},
   "outputs": [],
   "source": [
    "# img_edge = cv2.Canny(img,100,200) # use trial and error to set these numbers\n",
    "# cv2.imshow('img',img_edge)\n",
    "# cv2.waitKey(0)"
   ]
  },
  {
   "cell_type": "code",
   "execution_count": 64,
   "id": "8fd37539",
   "metadata": {},
   "outputs": [],
   "source": [
    "# img_edge_dilate = cv2.dilate(img_edge, np.ones((2,2),dtype = np.int8)) # make all the extracted edges thicker\n",
    "# cv2.imshow('img_edge_d',img_edge_dilate)\n",
    "# cv2.waitKey(0)"
   ]
  },
  {
   "cell_type": "code",
   "execution_count": 65,
   "id": "e3353ec4",
   "metadata": {},
   "outputs": [],
   "source": [
    "# img_edge_erode = cv2.erode(img_edge_dilate, np.ones((2,2),dtype = np.int8)) # make all the extracted edges thinner\n",
    "# cv2.imshow('img_edge_d',img_edge_erode)\n",
    "# cv2.waitKey(0)"
   ]
  },
  {
   "cell_type": "code",
   "execution_count": null,
   "id": "7dc7ec63",
   "metadata": {},
   "outputs": [],
   "source": []
  },
  {
   "cell_type": "code",
   "execution_count": null,
   "id": "2d288004",
   "metadata": {},
   "outputs": [],
   "source": []
  },
  {
   "cell_type": "markdown",
   "id": "a24e41bd",
   "metadata": {},
   "source": [
    "## Drawing"
   ]
  },
  {
   "cell_type": "code",
   "execution_count": 66,
   "id": "396de293",
   "metadata": {},
   "outputs": [],
   "source": [
    "# cv2.line(img,(100,250),(300,430),(0,255,0),3)\n",
    "# cv2.rectangle(img,(200,320),(430,200),(0,0,255),-1)\n",
    "# cv2.cirlce(img,(500,500),150,(255,0,0),10)\n",
    "# cv2.putText(img,'Hey you!',(800,450),cv2.FONT_HERSHEY_SIMPLEX,2,(255,255,0),2)"
   ]
  },
  {
   "cell_type": "code",
   "execution_count": null,
   "id": "89c56ece",
   "metadata": {},
   "outputs": [],
   "source": []
  },
  {
   "cell_type": "code",
   "execution_count": null,
   "id": "7b34871d",
   "metadata": {},
   "outputs": [],
   "source": []
  },
  {
   "cell_type": "markdown",
   "id": "c47f0ad7",
   "metadata": {},
   "source": [
    "## Contours"
   ]
  },
  {
   "cell_type": "code",
   "execution_count": 67,
   "id": "b843dd7b",
   "metadata": {},
   "outputs": [],
   "source": [
    "import cv2\n",
    "import os"
   ]
  },
  {
   "cell_type": "code",
   "execution_count": 68,
   "id": "138195ad",
   "metadata": {},
   "outputs": [],
   "source": [
    "# img = cv2.imread(os.path.join('.','birdimgs.jpg'))\n",
    "# cv2.imshow('img',img)\n",
    "# cv2.waitKey(0)"
   ]
  },
  {
   "cell_type": "code",
   "execution_count": 69,
   "id": "65947e45",
   "metadata": {},
   "outputs": [],
   "source": [
    "gray_img = cv2.cvtColor(img,cv2.COLOR_BGR2GRAY)"
   ]
  },
  {
   "cell_type": "code",
   "execution_count": 70,
   "id": "7b1b5d13",
   "metadata": {},
   "outputs": [],
   "source": [
    "ret,thresh = cv2.threshold(gray_img,150,255,cv2.THRESH_BINARY_INV)"
   ]
  },
  {
   "cell_type": "code",
   "execution_count": 71,
   "id": "70b3f121",
   "metadata": {},
   "outputs": [],
   "source": [
    "# cv2.imshow('thresh',thresh)\n",
    "# cv2.waitKey(0)"
   ]
  },
  {
   "cell_type": "code",
   "execution_count": 72,
   "id": "4309f4fd",
   "metadata": {},
   "outputs": [],
   "source": [
    "contours, heirarchy = cv2.findContours(thresh,cv2.RETR_TREE, cv2.CHAIN_APPROX_SIMPLE)"
   ]
  },
  {
   "cell_type": "code",
   "execution_count": 73,
   "id": "22b5f13c",
   "metadata": {},
   "outputs": [],
   "source": [
    "# for cnt in contours:\n",
    "#     if cv2.contourArea(cnt)>5: # increasing Area condition will start dismissing small contours\n",
    "#         cv2.drawContours(img,cnt,-1,(0,0,255),2)"
   ]
  },
  {
   "cell_type": "code",
   "execution_count": 74,
   "id": "23692b86",
   "metadata": {},
   "outputs": [],
   "source": [
    "# cv2.imshow('img',img)\n",
    "# cv2.waitKey(0)"
   ]
  },
  {
   "cell_type": "code",
   "execution_count": 75,
   "id": "3a2a920f",
   "metadata": {},
   "outputs": [],
   "source": [
    "# # Drawing Bounding Box \n",
    "# for cnt in contours:\n",
    "#     if cv2.contourArea(cnt)>5: # increasing Area condition will start dismissing small contours\n",
    "#         # cv2.drawContours(img,cnt,-1,(0,0,255),2)\n",
    "#         x1,y1,w,h = cv2.boundingRect(cnt)\n",
    "#         cv2.rectangle(img,(x1,y1),(x1+w,y1+h),(0,255,0),1)"
   ]
  },
  {
   "cell_type": "code",
   "execution_count": 76,
   "id": "6b85066f",
   "metadata": {},
   "outputs": [],
   "source": [
    "# cv2.imshow('img',img)\n",
    "# cv2.waitKey(0)"
   ]
  },
  {
   "cell_type": "code",
   "execution_count": null,
   "id": "2f204344",
   "metadata": {},
   "outputs": [],
   "source": []
  },
  {
   "cell_type": "code",
   "execution_count": null,
   "id": "5461b727",
   "metadata": {},
   "outputs": [],
   "source": []
  }
 ],
 "metadata": {
  "kernelspec": {
   "display_name": "Python 3 (ipykernel)",
   "language": "python",
   "name": "python3"
  },
  "language_info": {
   "codemirror_mode": {
    "name": "ipython",
    "version": 3
   },
   "file_extension": ".py",
   "mimetype": "text/x-python",
   "name": "python",
   "nbconvert_exporter": "python",
   "pygments_lexer": "ipython3",
   "version": "3.11.5"
  }
 },
 "nbformat": 4,
 "nbformat_minor": 5
}
